{
 "cells": [
  {
   "cell_type": "markdown",
   "id": "1ddd211e",
   "metadata": {},
   "source": [
    "<h1>Hello and welcome to the Brain, Cognition, and Technology physiology analysis notebook!<h1>"
   ]
  },
  {
   "cell_type": "markdown",
   "id": "e4ac286b",
   "metadata": {},
   "source": [
    "<h3> Replace the example file name below with the name of the file you want to analyze (between the quotation marks). Then click on the green \"RUN THE ANALYSIS\" button. <h3>"
   ]
  },
  {
   "cell_type": "code",
   "execution_count": 252,
   "id": "fd94ad0e",
   "metadata": {},
   "outputs": [],
   "source": [
    "File_name = \"david_testing_2022-01-27_18-34-25.txt\""
   ]
  },
  {
   "cell_type": "code",
   "execution_count": 253,
   "id": "7b390437",
   "metadata": {},
   "outputs": [
    {
     "data": {
      "application/javascript": [
       "IPython.notebook.execute_all_cells()"
      ],
      "text/plain": [
       "<IPython.core.display.Javascript object>"
      ]
     },
     "metadata": {},
     "output_type": "display_data"
    },
    {
     "data": {
      "application/vnd.jupyter.widget-view+json": {
       "model_id": "433d5500bb8346ce9a52daacade962bc",
       "version_major": 2,
       "version_minor": 0
      },
      "text/plain": [
       "Button(description='RUN THE ANALYSIS', layout=Layout(height='80px', width='50%'), style=ButtonStyle(button_col…"
      ]
     },
     "metadata": {},
     "output_type": "display_data"
    }
   ],
   "source": [
    "from IPython.display import Javascript, display\n",
    "from ipywidgets import widgets\n",
    "from ipywidgets import Button, Layout\n",
    "\n",
    "def run_all(ev):\n",
    "    display(Javascript('IPython.notebook.execute_all_cells()'))\n",
    "\n",
    "button = widgets.Button(description=\"RUN THE ANALYSIS\",layout=Layout(width='50%', height='80px'))\n",
    "button.style.button_color = 'lightgreen'\n",
    "button.on_click(run_all)\n",
    "display(button)"
   ]
  },
  {
   "cell_type": "code",
   "execution_count": 254,
   "id": "e73844a8",
   "metadata": {},
   "outputs": [],
   "source": [
    "import biosignalsnotebooks as bsnb\n",
    "import numpy as np\n",
    "import neurokit2 as nk\n",
    "import pandas as pd \n",
    "\n",
    "# Scientific packages\n",
    "from numpy import linspace, max, min, average, std, array, diff, fabs, sqrt, power, round\n",
    "from scipy.integrate import simps\n",
    "\n",
    "# Scientific programming package.\n",
    "from numpy import average, array, reshape, sqrt, sort, diff, where, argmax, max\n",
    "from numbers import Number\n",
    "\n",
    "# Pacakge dedicated to Wavelet decomposition algorithms.\n",
    "from pywt import swt, iswt\n",
    "\n",
    "# Machine-learning dedicated package.\n",
    "from sklearn.mixture import GaussianMixture\n",
    "\n",
    "# Gaussian Distribution function.\n",
    "from scipy.stats import norm\n",
    "\n",
    "# Built-in packages.\n",
    "from copy import deepcopy"
   ]
  },
  {
   "cell_type": "code",
   "execution_count": 255,
   "id": "e5e9ff2d",
   "metadata": {},
   "outputs": [],
   "source": [
    "Data_file = \"/Users/a1/Downloads/\" + File_name"
   ]
  },
  {
   "cell_type": "markdown",
   "id": "6de4d0b6",
   "metadata": {},
   "source": [
    "<h2> Respiration (Breathing) <h2>"
   ]
  },
  {
   "cell_type": "code",
   "execution_count": 256,
   "id": "ad6eb36c",
   "metadata": {},
   "outputs": [],
   "source": [
    "#Opensignals Device setting\n",
    "ch = 'CH1'\n",
    "sr = 1000\n",
    "resolution = 16 # Resolution (number of available bits)"
   ]
  },
  {
   "cell_type": "code",
   "execution_count": 257,
   "id": "bd903324",
   "metadata": {},
   "outputs": [],
   "source": [
    "#DATA LOADOUT \n",
    "data, header = bsnb.load(Data_file,get_header=True)"
   ]
  },
  {
   "cell_type": "code",
   "execution_count": 258,
   "id": "a06cbbaf",
   "metadata": {},
   "outputs": [
    {
     "data": {
      "text/html": [
       "<div>\n",
       "<style scoped>\n",
       "    .dataframe tbody tr th:only-of-type {\n",
       "        vertical-align: middle;\n",
       "    }\n",
       "\n",
       "    .dataframe tbody tr th {\n",
       "        vertical-align: top;\n",
       "    }\n",
       "\n",
       "    .dataframe thead th {\n",
       "        text-align: right;\n",
       "    }\n",
       "</style>\n",
       "<table border=\"1\" class=\"dataframe\">\n",
       "  <thead>\n",
       "    <tr style=\"text-align: right;\">\n",
       "      <th></th>\n",
       "      <th>RSP_Rate_Mean</th>\n",
       "      <th>RSP_Amplitude_Mean</th>\n",
       "      <th>RSP_Phase_Duration_Inspiration</th>\n",
       "      <th>RSP_Phase_Duration_Expiration</th>\n",
       "      <th>RSP_Phase_Duration_Ratio</th>\n",
       "      <th>RRV_RMSSD</th>\n",
       "      <th>RRV_MeanBB</th>\n",
       "      <th>RRV_SDBB</th>\n",
       "      <th>RRV_SDSD</th>\n",
       "      <th>RRV_CVBB</th>\n",
       "      <th>...</th>\n",
       "      <th>RRV_DFA_alpha1</th>\n",
       "      <th>RRV_DFA_alpha1_ExpRange</th>\n",
       "      <th>RRV_DFA_alpha1_ExpMean</th>\n",
       "      <th>RRV_DFA_alpha1_DimRange</th>\n",
       "      <th>RRV_DFA_alpha1_DimMean</th>\n",
       "      <th>RRV_DFA_alpha2</th>\n",
       "      <th>RRV_DFA_alpha2_ExpRange</th>\n",
       "      <th>RRV_DFA_alpha2_ExpMean</th>\n",
       "      <th>RRV_DFA_alpha2_DimRange</th>\n",
       "      <th>RRV_DFA_alpha2_DimMean</th>\n",
       "    </tr>\n",
       "  </thead>\n",
       "  <tbody>\n",
       "    <tr>\n",
       "      <th>0</th>\n",
       "      <td>14.787968</td>\n",
       "      <td>22.098771</td>\n",
       "      <td>2.048572</td>\n",
       "      <td>2.04971</td>\n",
       "      <td>0.999445</td>\n",
       "      <td>1423.228671</td>\n",
       "      <td>4101.64</td>\n",
       "      <td>1057.506425</td>\n",
       "      <td>1426.79516</td>\n",
       "      <td>0.257825</td>\n",
       "      <td>...</td>\n",
       "      <td>0.693406</td>\n",
       "      <td>0.983506</td>\n",
       "      <td>0.890855</td>\n",
       "      <td>0.759486</td>\n",
       "      <td>0.693125</td>\n",
       "      <td>0.608975</td>\n",
       "      <td>0.682907</td>\n",
       "      <td>0.77284</td>\n",
       "      <td>0.708476</td>\n",
       "      <td>0.675007</td>\n",
       "    </tr>\n",
       "  </tbody>\n",
       "</table>\n",
       "<p>1 rows × 35 columns</p>\n",
       "</div>"
      ],
      "text/plain": [
       "   RSP_Rate_Mean  RSP_Amplitude_Mean  RSP_Phase_Duration_Inspiration  \\\n",
       "0      14.787968           22.098771                        2.048572   \n",
       "\n",
       "   RSP_Phase_Duration_Expiration  RSP_Phase_Duration_Ratio    RRV_RMSSD  \\\n",
       "0                        2.04971                  0.999445  1423.228671   \n",
       "\n",
       "   RRV_MeanBB     RRV_SDBB    RRV_SDSD  RRV_CVBB  ...  RRV_DFA_alpha1  \\\n",
       "0     4101.64  1057.506425  1426.79516  0.257825  ...        0.693406   \n",
       "\n",
       "   RRV_DFA_alpha1_ExpRange  RRV_DFA_alpha1_ExpMean  RRV_DFA_alpha1_DimRange  \\\n",
       "0                 0.983506                0.890855                 0.759486   \n",
       "\n",
       "   RRV_DFA_alpha1_DimMean  RRV_DFA_alpha2  RRV_DFA_alpha2_ExpRange  \\\n",
       "0                0.693125        0.608975                 0.682907   \n",
       "\n",
       "   RRV_DFA_alpha2_ExpMean  RRV_DFA_alpha2_DimRange  RRV_DFA_alpha2_DimMean  \n",
       "0                 0.77284                 0.708476                0.675007  \n",
       "\n",
       "[1 rows x 35 columns]"
      ]
     },
     "execution_count": 258,
     "metadata": {},
     "output_type": "execute_result"
    }
   ],
   "source": [
    "signal = data[ch]\n",
    "#convert signal according to bsnb guidelines\n",
    "signal_converted = ((np.array(signal) / 2**resolution) - 0.5) * 100\n",
    "#filtering signal for bandwidth of 0.1- 0.35 Hz, which is 6 Breathings to 21 Breathings per minute\n",
    "filtered_signal = nk.rsp_clean(signal_converted, sampling_rate = sr, method = \"biosppy\")\n",
    "process, info = nk.rsp_process(filtered_signal, sampling_rate= sr)\n",
    "analysis = nk.rsp_analyze(process)\n",
    "\n",
    "analysis"
   ]
  },
  {
   "cell_type": "markdown",
   "id": "fd397b4c",
   "metadata": {},
   "source": [
    "<h2> ECG (Heart Rate Variability) <h2>"
   ]
  },
  {
   "cell_type": "code",
   "execution_count": 259,
   "id": "b84b76c3",
   "metadata": {},
   "outputs": [],
   "source": [
    "#Opensignals Device setting\n",
    "channel = 'CH2'\n",
    "data, header = bsnb.load(\"/Users/a1/Downloads/david_testing_2022-01-27_18-34-25.txt\", get_header=True)"
   ]
  },
  {
   "cell_type": "code",
   "execution_count": 260,
   "id": "f0e51568",
   "metadata": {},
   "outputs": [],
   "source": [
    "# Sampling frequency and acquired data\n",
    "fs = header[\"sampling rate\"]\n",
    "\n",
    "# Signal Samples\n",
    "signal = data[channel]\n",
    "time = linspace(0, len(signal) / fs, len(signal))\n",
    "tachogram_data, tachogram_time = bsnb.tachogram(signal, fs, signal=True, out_seconds=True)"
   ]
  },
  {
   "cell_type": "code",
   "execution_count": 261,
   "id": "b1b366e7",
   "metadata": {},
   "outputs": [],
   "source": [
    "tachogram_data_NN, tachogram_time_NN = bsnb.remove_ectopy(tachogram_data, tachogram_time)\n",
    "bpm_data = (1 / array(tachogram_data_NN)) * 60"
   ]
  },
  {
   "cell_type": "code",
   "execution_count": 262,
   "id": "4673255f",
   "metadata": {},
   "outputs": [],
   "source": [
    "# Maximum, Minimum and Average RR Interval\n",
    "max_rr = max(tachogram_data_NN)\n",
    "min_rr = min(tachogram_data_NN)\n",
    "avg_rr = average(tachogram_data_NN)\n",
    "\n",
    "# Maximum, Minimum and Average Heart Rate\n",
    "max_hr = 1 / min_rr # Cycles per second\n",
    "max_bpm = max_hr * 60 # BPM\n",
    "\n",
    "min_hr = 1 / max_rr # Cycles per second\n",
    "min_bpm = min_hr * 60 # BPM\n",
    "\n",
    "avg_hr = 1 / avg_rr # Cyles per second\n",
    "avg_bpm = avg_hr * 60 # BPM\n",
    "\n",
    "# SDNN\n",
    "sdnn = std(tachogram_data_NN)\n",
    "\n",
    "time_param_dict = {\"Maximum RR\": max_rr, \"Minimum RR\": min_rr, \"Average RR\": avg_rr, \"Maximum BPM\": max_bpm, \"Minimum BPM\": min_bpm, \"Average BPM\": avg_bpm, \"SDNN\": sdnn}"
   ]
  },
  {
   "cell_type": "code",
   "execution_count": 263,
   "id": "26190e24",
   "metadata": {},
   "outputs": [],
   "source": [
    "# Auxiliary Structures\n",
    "tachogram_diff = diff(tachogram_data)\n",
    "tachogram_diff_abs = fabs(tachogram_diff)\n",
    "sdsd = std(tachogram_diff)\n",
    "rr_i = tachogram_data[:-1]\n",
    "rr_i_plus_1 = tachogram_data[1:]\n",
    "\n",
    "# PoincarÃ© Parameters\n",
    "sd1 = sqrt(0.5 * power(sdsd, 2))\n",
    "sd2 = sqrt(2 * power(sdnn, 2) - power(sd1, 2))\n",
    "sd1_sd2 = sd1 / sd2"
   ]
  },
  {
   "cell_type": "code",
   "execution_count": 264,
   "id": "4002fb02",
   "metadata": {},
   "outputs": [],
   "source": [
    "# Auxiliary Structures\n",
    "freqs, power_spect = bsnb.psd(tachogram_time, tachogram_data) # Power spectrum.\n",
    "\n",
    "# Frequemcy Parameters\n",
    "freq_bands = {\"ulf_band\": [0.00, 0.003], \"vlf_band\": [0.003, 0.04], \"lf_band\": [0.04, 0.15], \"hf_band\": [0.15, 0.40]}\n",
    "power_values = {}\n",
    "total_power = 0\n",
    "\n",
    "band_keys = freq_bands.keys()\n",
    "for band in band_keys:\n",
    "    freq_band = freq_bands[band]\n",
    "    freq_samples_inside_band = [freq for freq in freqs if freq >= freq_band[0] and freq <= freq_band[1]]\n",
    "    power_samples_inside_band = [p for p, freq in zip(power_spect, freqs) if freq >= freq_band[0] and freq <= freq_band[1]]\n",
    "    power = round(simps(power_samples_inside_band, freq_samples_inside_band), 5)\n",
    "    \n",
    "    # Storage of power inside each band\n",
    "    power_values[band] = power\n",
    "    \n",
    "    # Total power update\n",
    "    total_power = total_power + power"
   ]
  },
  {
   "cell_type": "code",
   "execution_count": 265,
   "id": "8d12bbfc",
   "metadata": {},
   "outputs": [],
   "source": [
    "# Number of RR intervals that have a difference in duration, from the previous one, of at least 20 ms\n",
    "nn20 = sum(1 for i in tachogram_diff_abs if i > 0.02)\n",
    "pnn20 = int(float(nn20) / len(tachogram_diff_abs) * 100) # Percentage value.\n",
    "\n",
    "# Number of RR intervals that have a difference in duration, from the previous one, of at least 50 ms\n",
    "nn50 = sum(1 for i in tachogram_diff_abs if i > 0.05)\n",
    "pnn50 = int(float(nn50) / len(tachogram_diff_abs) * 100) # Percentage value."
   ]
  },
  {
   "cell_type": "code",
   "execution_count": 266,
   "id": "596e1e48",
   "metadata": {},
   "outputs": [
    {
     "name": "stdout",
     "output_type": "stream",
     "text": [
      "{'MaxRR': 1.0570012692138278, 'MinRR': 0.6880008261297235, 'AvgRR': 0.9178429729409757, 'MaxBPM': 87.20919760739781, 'MinBPM': 56.764359464418206, 'AvgBPM': 65.37065900035871, 'SDNN': 0.0582618586344522, 'SD1': 0.05834178906954914, 'SD2': 0.05818181839067958, 'SD1/SD2': 1.0027494960332004, 'NN20': 462, 'pNN20': 51, 'NN50': 69, 'pNN50': 7, 'ULF_Power': 0.0, 'VLF_Power': 0.00244, 'LF_Power': 0.0013, 'HF_Power': 0.00216, 'LF_HF_Ratio': 0.6018518518518519, 'Total_Power': 0.0059}\n"
     ]
    }
   ],
   "source": [
    "dictParameters = bsnb.hrv_parameters(signal, fs, signal=True)\n",
    "print (dictParameters)"
   ]
  },
  {
   "cell_type": "markdown",
   "id": "43295af6",
   "metadata": {},
   "source": [
    "<h2> EDA (Galvanic Skin Response) <h2>"
   ]
  },
  {
   "cell_type": "code",
   "execution_count": 267,
   "id": "aad6bd9b",
   "metadata": {},
   "outputs": [],
   "source": [
    "#Opensignals Device setting\n",
    "data, header = bsnb.load(\"/Users/a1/Downloads/david_testing_2022-01-27_18-34-25.txt\", get_header=True)\n",
    "signal = data[\"CH3\"]"
   ]
  },
  {
   "cell_type": "code",
   "execution_count": 268,
   "id": "ce9666c5",
   "metadata": {},
   "outputs": [],
   "source": [
    "# Sampling rate definition.\n",
    "sr = header[\"sampling rate\"]\n",
    "\n",
    "# Raw to uS sample value conversion.\n",
    "signal_us = bsnb.raw_to_phy(\"EDA\", \"bitalino_rev\", signal, 10, \"uS\")"
   ]
  },
  {
   "cell_type": "code",
   "execution_count": 269,
   "id": "c22669ce",
   "metadata": {},
   "outputs": [],
   "source": [
    "# Conventional 1st order Butterworth bandpass filtering \n",
    "# (due to the restrictive bandwidth in order to guarantee system stability it is necessary to reduce the filter order)\n",
    "# [Option RES]\n",
    "signal_res = bsnb.bandpass(signal_us, 0.045, 0.25, order=1, fs=sr, use_filtfilt=True)\n",
    "\n",
    "# Conventional 2nd order Butterworth lowpass filtering \n",
    "# [Option EXT]\n",
    "signal_ext = bsnb.lowpass(signal_us, 35, order=2, fs=sr, use_filtfilt=True)"
   ]
  },
  {
   "cell_type": "code",
   "execution_count": 270,
   "id": "48d61a82",
   "metadata": {},
   "outputs": [],
   "source": [
    "# SWT 8th level Decomposition using \"Haar\" mother wavelet (taking into consideration its ability to detect \"edges\" in the signal) .\n",
    "swt_orig_coeffs = swt(signal_ext[:32768], \"haar\", level=8)\n",
    "\n",
    "# Restriction of filtering algorithm to the coefficients of the last decomposition level.\n",
    "detail_coeffs = swt_orig_coeffs[0][1]\n",
    "scaling_coeffs = swt_orig_coeffs[0][0]"
   ]
  },
  {
   "cell_type": "code",
   "execution_count": 271,
   "id": "00ec385c",
   "metadata": {},
   "outputs": [
    {
     "data": {
      "text/plain": [
       "GaussianMixture(covariance_type='spherical', n_components=2)"
      ]
     },
     "execution_count": 271,
     "metadata": {},
     "output_type": "execute_result"
    }
   ],
   "source": [
    "gaussian_mixt = GaussianMixture(n_components=2, covariance_type=\"spherical\") # \"spherical\" covariance type ensures that each Gaussian components has its own single variance.\n",
    "\n",
    "# Reshape data to a column vector format.\n",
    "detail_coeffs_col = reshape(detail_coeffs, (len(detail_coeffs), 1))\n",
    "\n",
    "# Fit data to our model object.\n",
    "gaussian_mixt.fit(detail_coeffs_col)"
   ]
  },
  {
   "cell_type": "code",
   "execution_count": 272,
   "id": "2fcd5b2d",
   "metadata": {},
   "outputs": [],
   "source": [
    "# Normal distribution function objects.\n",
    "norm_1 = norm(loc=gaussian_mixt.means_[0][0], scale=sqrt(gaussian_mixt.covariances_[0])) \n",
    "norm_2 = norm(loc=gaussian_mixt.means_[1][0], scale=sqrt(gaussian_mixt.covariances_[1])) \n",
    "\n",
    "# Component weights.\n",
    "weight_1 = gaussian_mixt.weights_[0]\n",
    "weight_2 = gaussian_mixt.weights_[1]\n",
    "\n",
    "# CDF values for the coefficients under analysis.\n",
    "sort_detail_coeffs = sort(detail_coeffs)\n",
    "norm_1_cdf = norm_1.cdf(sort_detail_coeffs)\n",
    "norm_2_cdf = norm_2.cdf(sort_detail_coeffs)\n",
    "\n",
    "# CDF of the Gaussian mixture.\n",
    "cdf_mixt = weight_1 * norm_1_cdf + weight_2 * norm_2_cdf"
   ]
  },
  {
   "cell_type": "code",
   "execution_count": 273,
   "id": "05129431",
   "metadata": {},
   "outputs": [],
   "source": [
    "art_prop = 0.01 # Artifact proportion value.\n",
    "low_thr = None \n",
    "high_thr = None\n",
    "\n",
    "# Check when the CDF mixture function reaches values art_prop / 2 and 1 - art_prop / 2.\n",
    "for i in range(0, len(norm_1_cdf)):\n",
    "    # Low threshold clause.\n",
    "    if cdf_mixt[i] - cdf_mixt[0] >= art_prop and low_thr == None:\n",
    "        low_thr = sort_detail_coeffs[i]\n",
    "        \n",
    "    # High threshold clause.\n",
    "    if cdf_mixt[-1] - cdf_mixt[i] <= art_prop and high_thr == None:\n",
    "        high_thr = sort_detail_coeffs[i]"
   ]
  },
  {
   "cell_type": "code",
   "execution_count": 274,
   "id": "936674bb",
   "metadata": {},
   "outputs": [],
   "source": [
    "filt_detail_coeffs = deepcopy(detail_coeffs)\n",
    "count_1 = 0\n",
    "count_2 = 0\n",
    "for j in range(0, len(filt_detail_coeffs)):\n",
    "    if detail_coeffs[j] <= low_thr or detail_coeffs[j] >= high_thr:\n",
    "        filt_detail_coeffs[j] = 0\n",
    "    else:\n",
    "        continue\n",
    "        \n",
    "# Update of the SWT decomposition tupple.\n",
    "swt_coeffs = [(array(scaling_coeffs), array(filt_detail_coeffs))]"
   ]
  },
  {
   "cell_type": "code",
   "execution_count": 275,
   "id": "1130301d",
   "metadata": {},
   "outputs": [],
   "source": [
    "rec_signal = iswt(swt_coeffs, \"haar\")"
   ]
  },
  {
   "cell_type": "code",
   "execution_count": 276,
   "id": "5d11cddb",
   "metadata": {},
   "outputs": [],
   "source": [
    "signal_int = bsnb.smooth(rec_signal, sr * 3) # Moving average witt window size equal to 3 x sampling rate.\n",
    "\n",
    "# Rescale signal.\n",
    "signal_int = signal_int * (max(signal_ext) / max(signal_int))"
   ]
  },
  {
   "cell_type": "code",
   "execution_count": 277,
   "id": "8154a592",
   "metadata": {},
   "outputs": [],
   "source": [
    "# Parameter extraction.\n",
    "param_dict = {}\n",
    "\n",
    "#[Latency to stimulus onset]\n",
    "signal_2nd_der = diff(diff(signal_int)) # Generation of 2nd derivative function.\n",
    "der_thr = max(signal_2nd_der) # Identification of our major concavity point (start of response time)\n",
    "response_sample = argmax(signal_2nd_der)\n",
    "response_time = response_sample / sr\n",
    "param_dict[\"Latency to stimulus onset\"] = response_time - 0\n",
    "\n",
    "#[EDR amplitude]\n",
    "eda_max = max(signal_int)\n",
    "eda_basal = signal_int[response_sample]\n",
    "param_dict[\"EDR amplitude\"] = eda_max - eda_basal\n",
    "\n",
    "#[EDR rising time (Rise Time)]\n",
    "eda_max_sample = argmax(signal_int)\n",
    "eda_max_time = eda_max_sample / sr\n",
    "param_dict[\"EDR rising time (Rise Time)\"] = eda_max_time - response_time\n",
    "\n",
    "#[EDR response peak (Peak Time)]\n",
    "param_dict[\"EDR response peak (Peak Time)\"] = eda_max_time\n",
    "\n",
    "#[Recovery time to 50% amplitude]\n",
    "time_50 = None\n",
    "for i in range(eda_max_sample, len(signal_int)):\n",
    "    if signal_int[i] <= eda_max - 0.50 * param_dict[\"EDR amplitude\"]:\n",
    "        time_50 = i / sr\n",
    "        break\n",
    "param_dict[\"Recovery time to 50% amplitude\"] = time_50 - eda_max_time\n",
    "\n",
    "#[Recovery time to 63% amplitude]\n",
    "time_63 = None\n",
    "for i in range(eda_max_sample, len(signal_int)):\n",
    "    if signal_int[i] <= eda_max - 0.63 * param_dict[\"EDR amplitude\"]:\n",
    "        time_63 = i / sr\n",
    "        break\n",
    "param_dict[\"Recovery time to 63% amplitude\"] = time_63 - eda_max_time"
   ]
  },
  {
   "cell_type": "code",
   "execution_count": 278,
   "id": "c4849e2f",
   "metadata": {},
   "outputs": [
    {
     "data": {
      "text/plain": [
       "{'Latency to stimulus onset': 32.024,\n",
       " 'EDR amplitude': 6.6245598475980785,\n",
       " 'EDR rising time (Rise Time)': -32.024,\n",
       " 'EDR response peak (Peak Time)': 0.0,\n",
       " 'Recovery time to 50% amplitude': 14.09,\n",
       " 'Recovery time to 63% amplitude': 16.618}"
      ]
     },
     "execution_count": 278,
     "metadata": {},
     "output_type": "execute_result"
    }
   ],
   "source": [
    "param_dict"
   ]
  },
  {
   "cell_type": "code",
   "execution_count": null,
   "id": "095a3265",
   "metadata": {},
   "outputs": [],
   "source": []
  }
 ],
 "metadata": {
  "kernelspec": {
   "display_name": "Python 3 (ipykernel)",
   "language": "python",
   "name": "python3"
  },
  "language_info": {
   "codemirror_mode": {
    "name": "ipython",
    "version": 3
   },
   "file_extension": ".py",
   "mimetype": "text/x-python",
   "name": "python",
   "nbconvert_exporter": "python",
   "pygments_lexer": "ipython3",
   "version": "3.9.5"
  }
 },
 "nbformat": 4,
 "nbformat_minor": 5
}
