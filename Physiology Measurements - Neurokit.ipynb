{
 "cells": [
  {
   "cell_type": "markdown",
   "id": "1220cd07",
   "metadata": {},
   "source": [
    "<h1>Hello and welcome to the Brain, Cognition, and Technology physiology analysis notebook!<h1>"
   ]
  },
  {
   "cell_type": "markdown",
   "id": "3497f1a1",
   "metadata": {},
   "source": [
    "<h3> Replace the example file name below with the name of the file you want to analyze (between the quotation marks). Then click on the green \"RUN THE ANALYSIS\" button. <h3> "
   ]
  },
  {
   "cell_type": "code",
   "execution_count": 40,
   "id": "a1154155",
   "metadata": {},
   "outputs": [],
   "source": [
    "File_name = \"david_testing_2022-01-27_18-34-25.txt\""
   ]
  },
  {
   "cell_type": "code",
   "execution_count": 41,
   "id": "1ea529e4",
   "metadata": {},
   "outputs": [
    {
     "data": {
      "application/javascript": [
       "IPython.notebook.execute_all_cells()"
      ],
      "text/plain": [
       "<IPython.core.display.Javascript object>"
      ]
     },
     "metadata": {},
     "output_type": "display_data"
    },
    {
     "data": {
      "application/vnd.jupyter.widget-view+json": {
       "model_id": "f24befb3eec64dcda1b9faf542243a9a",
       "version_major": 2,
       "version_minor": 0
      },
      "text/plain": [
       "Button(description='RUN THE ANALYSIS', layout=Layout(height='80px', width='50%'), style=ButtonStyle(button_col…"
      ]
     },
     "metadata": {},
     "output_type": "display_data"
    }
   ],
   "source": [
    "from IPython.display import Javascript, display\n",
    "from ipywidgets import widgets\n",
    "from ipywidgets import Button, Layout\n",
    "\n",
    "def run_all(ev):\n",
    "    display(Javascript('IPython.notebook.execute_all_cells()'))\n",
    "\n",
    "button = widgets.Button(description=\"RUN THE ANALYSIS\",layout=Layout(width='50%', height='80px'))\n",
    "button.style.button_color = 'lightgreen'\n",
    "button.on_click(run_all)\n",
    "display(button)"
   ]
  },
  {
   "cell_type": "code",
   "execution_count": 42,
   "id": "d139c677",
   "metadata": {},
   "outputs": [],
   "source": [
    "import biosignalsnotebooks as bsnb\n",
    "import numpy as np\n",
    "import neurokit2 as nk\n",
    "import pandas as pd "
   ]
  },
  {
   "cell_type": "code",
   "execution_count": 43,
   "id": "7f71cc99",
   "metadata": {},
   "outputs": [],
   "source": [
    "Data_file = \"/Users/a1/Downloads/\" + File_name"
   ]
  },
  {
   "cell_type": "markdown",
   "id": "6de4d0b6",
   "metadata": {},
   "source": [
    "<h2> Respiration (Breathing) <h2>"
   ]
  },
  {
   "cell_type": "code",
   "execution_count": 44,
   "id": "ad6eb36c",
   "metadata": {},
   "outputs": [],
   "source": [
    "#Opensignals Device setting\n",
    "ch = 'CH1'\n",
    "sr = 1000\n",
    "resolution = 16 # Resolution (number of available bits)"
   ]
  },
  {
   "cell_type": "code",
   "execution_count": 45,
   "id": "bd903324",
   "metadata": {},
   "outputs": [],
   "source": [
    "#DATA LOADOUT \n",
    "data, header = bsnb.load(Data_file,get_header=True)"
   ]
  },
  {
   "cell_type": "code",
   "execution_count": 46,
   "id": "f5a5ca95",
   "metadata": {},
   "outputs": [
    {
     "data": {
      "text/html": [
       "<div>\n",
       "<style scoped>\n",
       "    .dataframe tbody tr th:only-of-type {\n",
       "        vertical-align: middle;\n",
       "    }\n",
       "\n",
       "    .dataframe tbody tr th {\n",
       "        vertical-align: top;\n",
       "    }\n",
       "\n",
       "    .dataframe thead th {\n",
       "        text-align: right;\n",
       "    }\n",
       "</style>\n",
       "<table border=\"1\" class=\"dataframe\">\n",
       "  <thead>\n",
       "    <tr style=\"text-align: right;\">\n",
       "      <th></th>\n",
       "      <th>RSP_Rate_Mean</th>\n",
       "      <th>RSP_Amplitude_Mean</th>\n",
       "      <th>RSP_Phase_Duration_Inspiration</th>\n",
       "      <th>RSP_Phase_Duration_Expiration</th>\n",
       "      <th>RSP_Phase_Duration_Ratio</th>\n",
       "      <th>RRV_RMSSD</th>\n",
       "      <th>RRV_MeanBB</th>\n",
       "      <th>RRV_SDBB</th>\n",
       "      <th>RRV_SDSD</th>\n",
       "      <th>RRV_CVBB</th>\n",
       "      <th>...</th>\n",
       "      <th>RRV_DFA_alpha1</th>\n",
       "      <th>RRV_DFA_alpha1_ExpRange</th>\n",
       "      <th>RRV_DFA_alpha1_ExpMean</th>\n",
       "      <th>RRV_DFA_alpha1_DimRange</th>\n",
       "      <th>RRV_DFA_alpha1_DimMean</th>\n",
       "      <th>RRV_DFA_alpha2</th>\n",
       "      <th>RRV_DFA_alpha2_ExpRange</th>\n",
       "      <th>RRV_DFA_alpha2_ExpMean</th>\n",
       "      <th>RRV_DFA_alpha2_DimRange</th>\n",
       "      <th>RRV_DFA_alpha2_DimMean</th>\n",
       "    </tr>\n",
       "  </thead>\n",
       "  <tbody>\n",
       "    <tr>\n",
       "      <th>0</th>\n",
       "      <td>14.787967</td>\n",
       "      <td>14482.650468</td>\n",
       "      <td>2.048567</td>\n",
       "      <td>2.049715</td>\n",
       "      <td>0.99944</td>\n",
       "      <td>1423.227449</td>\n",
       "      <td>4101.64</td>\n",
       "      <td>1057.507124</td>\n",
       "      <td>1426.793935</td>\n",
       "      <td>0.257825</td>\n",
       "      <td>...</td>\n",
       "      <td>0.693393</td>\n",
       "      <td>0.983524</td>\n",
       "      <td>0.890847</td>\n",
       "      <td>0.759494</td>\n",
       "      <td>0.693121</td>\n",
       "      <td>0.608978</td>\n",
       "      <td>0.682904</td>\n",
       "      <td>0.772842</td>\n",
       "      <td>0.708475</td>\n",
       "      <td>0.675007</td>\n",
       "    </tr>\n",
       "  </tbody>\n",
       "</table>\n",
       "<p>1 rows × 35 columns</p>\n",
       "</div>"
      ],
      "text/plain": [
       "   RSP_Rate_Mean  RSP_Amplitude_Mean  RSP_Phase_Duration_Inspiration  \\\n",
       "0      14.787967        14482.650468                        2.048567   \n",
       "\n",
       "   RSP_Phase_Duration_Expiration  RSP_Phase_Duration_Ratio    RRV_RMSSD  \\\n",
       "0                       2.049715                   0.99944  1423.227449   \n",
       "\n",
       "   RRV_MeanBB     RRV_SDBB     RRV_SDSD  RRV_CVBB  ...  RRV_DFA_alpha1  \\\n",
       "0     4101.64  1057.507124  1426.793935  0.257825  ...        0.693393   \n",
       "\n",
       "   RRV_DFA_alpha1_ExpRange  RRV_DFA_alpha1_ExpMean  RRV_DFA_alpha1_DimRange  \\\n",
       "0                 0.983524                0.890847                 0.759494   \n",
       "\n",
       "   RRV_DFA_alpha1_DimMean  RRV_DFA_alpha2  RRV_DFA_alpha2_ExpRange  \\\n",
       "0                0.693121        0.608978                 0.682904   \n",
       "\n",
       "   RRV_DFA_alpha2_ExpMean  RRV_DFA_alpha2_DimRange  RRV_DFA_alpha2_DimMean  \n",
       "0                0.772842                 0.708475                0.675007  \n",
       "\n",
       "[1 rows x 35 columns]"
      ]
     },
     "execution_count": 46,
     "metadata": {},
     "output_type": "execute_result"
    }
   ],
   "source": [
    "signal = data[ch]\n",
    "filtered_signal = nk.rsp_clean(signal, sampling_rate = sr, method = \"biosppy\")\n",
    "process, info = nk.rsp_process(filtered_signal, sampling_rate= sr)\n",
    "analysis = nk.rsp_analyze(process)\n",
    "\n",
    "analysis"
   ]
  },
  {
   "cell_type": "markdown",
   "id": "fd397b4c",
   "metadata": {},
   "source": [
    "<h2> ECG (Heart Rate Variability) <h2>"
   ]
  },
  {
   "cell_type": "code",
   "execution_count": 47,
   "id": "b84b76c3",
   "metadata": {},
   "outputs": [],
   "source": [
    "#Opensignals Device setting\n",
    "ch = 'CH2'\n",
    "sr = 1000\n",
    "resolution = 16 # Resolution (number of available bits)"
   ]
  },
  {
   "cell_type": "code",
   "execution_count": 48,
   "id": "f0e51568",
   "metadata": {},
   "outputs": [
    {
     "data": {
      "text/html": [
       "<div>\n",
       "<style scoped>\n",
       "    .dataframe tbody tr th:only-of-type {\n",
       "        vertical-align: middle;\n",
       "    }\n",
       "\n",
       "    .dataframe tbody tr th {\n",
       "        vertical-align: top;\n",
       "    }\n",
       "\n",
       "    .dataframe thead th {\n",
       "        text-align: right;\n",
       "    }\n",
       "</style>\n",
       "<table border=\"1\" class=\"dataframe\">\n",
       "  <thead>\n",
       "    <tr style=\"text-align: right;\">\n",
       "      <th></th>\n",
       "      <th>ECG_Rate_Mean</th>\n",
       "      <th>HRV_MeanNN</th>\n",
       "      <th>HRV_SDNN</th>\n",
       "      <th>HRV_SDANN1</th>\n",
       "      <th>HRV_SDNNI1</th>\n",
       "      <th>HRV_SDANN2</th>\n",
       "      <th>HRV_SDNNI2</th>\n",
       "      <th>HRV_SDANN5</th>\n",
       "      <th>HRV_SDNNI5</th>\n",
       "      <th>HRV_RMSSD</th>\n",
       "      <th>...</th>\n",
       "      <th>HRV_SampEn</th>\n",
       "      <th>HRV_ShanEn</th>\n",
       "      <th>HRV_FuzzyEn</th>\n",
       "      <th>HRV_MSE</th>\n",
       "      <th>HRV_CMSE</th>\n",
       "      <th>HRV_RCMSE</th>\n",
       "      <th>HRV_CD</th>\n",
       "      <th>HRV_HFD</th>\n",
       "      <th>HRV_KFD</th>\n",
       "      <th>HRV_LZC</th>\n",
       "    </tr>\n",
       "  </thead>\n",
       "  <tbody>\n",
       "    <tr>\n",
       "      <th>0</th>\n",
       "      <td>65.538401</td>\n",
       "      <td>916.536935</td>\n",
       "      <td>79.730074</td>\n",
       "      <td>36.804074</td>\n",
       "      <td>67.530591</td>\n",
       "      <td>33.405216</td>\n",
       "      <td>70.167672</td>\n",
       "      <td>11.921418</td>\n",
       "      <td>78.463286</td>\n",
       "      <td>87.443246</td>\n",
       "      <td>...</td>\n",
       "      <td>1.685478</td>\n",
       "      <td>7.858098</td>\n",
       "      <td>1.248229</td>\n",
       "      <td>1.088468</td>\n",
       "      <td>1.097011</td>\n",
       "      <td>1.192348</td>\n",
       "      <td>1.364054</td>\n",
       "      <td>1.992547</td>\n",
       "      <td>4.148248</td>\n",
       "      <td>0.931584</td>\n",
       "    </tr>\n",
       "  </tbody>\n",
       "</table>\n",
       "<p>1 rows × 78 columns</p>\n",
       "</div>"
      ],
      "text/plain": [
       "   ECG_Rate_Mean  HRV_MeanNN   HRV_SDNN  HRV_SDANN1  HRV_SDNNI1  HRV_SDANN2  \\\n",
       "0      65.538401  916.536935  79.730074   36.804074   67.530591   33.405216   \n",
       "\n",
       "   HRV_SDNNI2  HRV_SDANN5  HRV_SDNNI5  HRV_RMSSD  ...  HRV_SampEn  HRV_ShanEn  \\\n",
       "0   70.167672   11.921418   78.463286  87.443246  ...    1.685478    7.858098   \n",
       "\n",
       "   HRV_FuzzyEn   HRV_MSE  HRV_CMSE  HRV_RCMSE    HRV_CD   HRV_HFD   HRV_KFD  \\\n",
       "0     1.248229  1.088468  1.097011   1.192348  1.364054  1.992547  4.148248   \n",
       "\n",
       "    HRV_LZC  \n",
       "0  0.931584  \n",
       "\n",
       "[1 rows x 78 columns]"
      ]
     },
     "execution_count": 48,
     "metadata": {},
     "output_type": "execute_result"
    }
   ],
   "source": [
    "signal = data[ch]\n",
    "#convert signal according to bsnb guidelines\n",
    "vcc = 3000 # mV\n",
    "gain = 1000\n",
    "ecg_signal = (((np.array(signal) / 2**resolution) - 0.5) * vcc) / gain\n",
    "\n",
    "filtered_signal = nk.ecg_clean(ecg_signal, sampling_rate=1000, method=\"neurokit\")\n",
    "\n",
    "process, info = nk.ecg_process(filtered_signal, sampling_rate= sr)\n",
    "analysis = nk.ecg_analyze(process)\n",
    "\n",
    "analysis"
   ]
  },
  {
   "cell_type": "markdown",
   "id": "43295af6",
   "metadata": {},
   "source": [
    "<h2> EDA (Galvanic Skin Response) <h2>"
   ]
  },
  {
   "cell_type": "code",
   "execution_count": 49,
   "id": "aad6bd9b",
   "metadata": {},
   "outputs": [],
   "source": [
    "#Opensignals Device setting\n",
    "ch = 'CH3'\n",
    "sr = 1000\n",
    "resolution = 16 # Resolution (number of available bits)"
   ]
  },
  {
   "cell_type": "code",
   "execution_count": 50,
   "id": "ce9666c5",
   "metadata": {},
   "outputs": [
    {
     "data": {
      "text/html": [
       "<div>\n",
       "<style scoped>\n",
       "    .dataframe tbody tr th:only-of-type {\n",
       "        vertical-align: middle;\n",
       "    }\n",
       "\n",
       "    .dataframe tbody tr th {\n",
       "        vertical-align: top;\n",
       "    }\n",
       "\n",
       "    .dataframe thead th {\n",
       "        text-align: right;\n",
       "    }\n",
       "</style>\n",
       "<table border=\"1\" class=\"dataframe\">\n",
       "  <thead>\n",
       "    <tr style=\"text-align: right;\">\n",
       "      <th></th>\n",
       "      <th>SCR_Peaks_N</th>\n",
       "      <th>SCR_Peaks_Amplitude_Mean</th>\n",
       "    </tr>\n",
       "  </thead>\n",
       "  <tbody>\n",
       "    <tr>\n",
       "      <th>0</th>\n",
       "      <td>40.0</td>\n",
       "      <td>0.015197</td>\n",
       "    </tr>\n",
       "  </tbody>\n",
       "</table>\n",
       "</div>"
      ],
      "text/plain": [
       "   SCR_Peaks_N  SCR_Peaks_Amplitude_Mean\n",
       "0         40.0                  0.015197"
      ]
     },
     "execution_count": 50,
     "metadata": {},
     "output_type": "execute_result"
    }
   ],
   "source": [
    "signal = data[ch]\n",
    "#convert signal according to bsnb guidelines\n",
    "vcc = 3 # Working voltage >> 3 V\n",
    "eda_signal = ((np.array(signal) / 2**resolution) * vcc) / 0.12\n",
    "\n",
    "filtered_signal = nk.eda_clean(eda_signal, sampling_rate=1000, method=\"biosppy\")\n",
    "\n",
    "process, info = nk.eda_process(filtered_signal, sampling_rate= sr)\n",
    "analysis = nk.eda_analyze(process)\n",
    "\n",
    "analysis"
   ]
  },
  {
   "cell_type": "code",
   "execution_count": null,
   "id": "c22669ce",
   "metadata": {},
   "outputs": [],
   "source": []
  }
 ],
 "metadata": {
  "kernelspec": {
   "display_name": "Python 3 (ipykernel)",
   "language": "python",
   "name": "python3"
  },
  "language_info": {
   "codemirror_mode": {
    "name": "ipython",
    "version": 3
   },
   "file_extension": ".py",
   "mimetype": "text/x-python",
   "name": "python",
   "nbconvert_exporter": "python",
   "pygments_lexer": "ipython3",
   "version": "3.9.5"
  }
 },
 "nbformat": 4,
 "nbformat_minor": 5
}
